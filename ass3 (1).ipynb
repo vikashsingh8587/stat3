{
 "cells": [
  {
   "cell_type": "code",
   "execution_count": 1,
   "id": "d00276f0-6fca-463c-9a14-a48a8090b4b6",
   "metadata": {},
   "outputs": [
    {
     "data": {
      "text/plain": [
       "'\\nQ1. What is the Probability density function?\\n\\n'"
      ]
     },
     "execution_count": 1,
     "metadata": {},
     "output_type": "execute_result"
    }
   ],
   "source": [
    "'''\n",
    "Q1. What is the Probability density function?\n",
    "\n",
    "'''"
   ]
  },
  {
   "cell_type": "code",
   "execution_count": 2,
   "id": "be3b30ae-b4c3-4092-97c3-89b8cb534cfd",
   "metadata": {},
   "outputs": [
    {
     "data": {
      "text/plain": [
       "'\\na function whose intergal is calculated to find probabilities associated with a continous random variable\\n'"
      ]
     },
     "execution_count": 2,
     "metadata": {},
     "output_type": "execute_result"
    }
   ],
   "source": [
    "'''\n",
    "a function whose intergal is calculated to find probabilities associated with a continous random variable\n",
    "'''\n"
   ]
  },
  {
   "cell_type": "code",
   "execution_count": 3,
   "id": "e9a82e80-3cb4-4084-858b-80133cf9535f",
   "metadata": {},
   "outputs": [
    {
     "data": {
      "text/plain": [
       "'\\nQ2. What are the types of Probability distribution?\\n'"
      ]
     },
     "execution_count": 3,
     "metadata": {},
     "output_type": "execute_result"
    }
   ],
   "source": [
    "'''\n",
    "Q2. What are the types of Probability distribution?\n",
    "'''"
   ]
  },
  {
   "cell_type": "code",
   "execution_count": 4,
   "id": "a94f52d5-05e5-4803-b10e-549c8b8d416a",
   "metadata": {},
   "outputs": [
    {
     "data": {
      "text/plain": [
       "'\\na probability distribution is a statiscsal funcation that discrible all  the possible values and probality \\nfor a random variable within a given range\\nthe range will be bounded by minimum and maximum possible value \\n'"
      ]
     },
     "execution_count": 4,
     "metadata": {},
     "output_type": "execute_result"
    }
   ],
   "source": [
    "'''\n",
    "a probability distribution is a statiscsal funcation that discrible all  the possible values and probality \n",
    "for a random variable within a given range\n",
    "the range will be bounded by minimum and maximum possible value \n",
    "'''"
   ]
  },
  {
   "cell_type": "code",
   "execution_count": 1,
   "id": "73b9c38b-1f2a-4364-a6d9-4aa3f1603c44",
   "metadata": {},
   "outputs": [
    {
     "data": {
      "text/plain": [
       "'\\nQ3. Write a Python function to calculate the probability density function of a normal distribution with\\ngiven mean and standard deviation at a given point.\\n'"
      ]
     },
     "execution_count": 1,
     "metadata": {},
     "output_type": "execute_result"
    }
   ],
   "source": [
    "'''\n",
    "Q3. Write a Python function to calculate the probability density function of a normal distribution with\n",
    "given mean and standard deviation at a given point.\n",
    "'''"
   ]
  },
  {
   "cell_type": "code",
   "execution_count": 32,
   "id": "38437893-07e5-413a-bcec-726865ee07a6",
   "metadata": {},
   "outputs": [],
   "source": [
    "import scipy.stats as stat\n",
    "import pylab\n",
    "import numpy as np"
   ]
  },
  {
   "cell_type": "code",
   "execution_count": 33,
   "id": "f89e12f2-0dc6-42e4-b52a-290caffeb4f7",
   "metadata": {},
   "outputs": [],
   "source": [
    "import seaborn as sns\n",
    "import matplotlib.pyplot as plt"
   ]
  },
  {
   "cell_type": "code",
   "execution_count": 81,
   "id": "a6343fa6-2fb5-4eda-933b-35fe791964f4",
   "metadata": {},
   "outputs": [
    {
     "name": "stdout",
     "output_type": "stream",
     "text": [
      "[0.08001127 0.15883751 0.22379689 0.22379689 0.15883751 0.08001127]\n"
     ]
    }
   ],
   "source": [
    "x=[1,2,3,4,5,6]\n",
    "mean=np.mean(x)\n",
    "std=np.std(x)\n",
    "normal=pdf_of_normal_distribution(x,mean,std)\n",
    "\n",
    "    "
   ]
  },
  {
   "cell_type": "code",
   "execution_count": 1,
   "id": "e478063d-e068-4587-94e6-e546e0af5c2b",
   "metadata": {},
   "outputs": [],
   "source": [
    "def pdf_of_normal_distribution(x,mean,std):\n",
    "    \n",
    "     print(   stat.norm.pdf(x,loc=mean,scale=std))\n",
    "        "
   ]
  },
  {
   "cell_type": "code",
   "execution_count": 83,
   "id": "b1b37b93-f8e0-44e1-868a-bf9962f89154",
   "metadata": {},
   "outputs": [
    {
     "data": {
      "text/plain": [
       "'\\nQ4. What are the properties of Binomial distribution? Give two examples of events where binomial\\ndistribution can be applied.\\n'"
      ]
     },
     "execution_count": 83,
     "metadata": {},
     "output_type": "execute_result"
    }
   ],
   "source": [
    "'''\n",
    "Q4. What are the properties of Binomial distribution? Give two examples of events where binomial\n",
    "distribution can be applied.\n",
    "'''"
   ]
  },
  {
   "cell_type": "code",
   "execution_count": 85,
   "id": "74d59e34-3861-4350-bab9-397fc6ad13b7",
   "metadata": {},
   "outputs": [
    {
     "data": {
      "text/plain": [
       "'\\nthe binomial distribution with parameter n and p is the discrete probality distribution  of the numberof success is n independent \\nexperiment ,each asking yes or no .a success and failure are called barnoulli trail\\nit is used where discrete random variable \\nfor example tossing a coin n times \\nrolling a dice\\n\\n'"
      ]
     },
     "execution_count": 85,
     "metadata": {},
     "output_type": "execute_result"
    }
   ],
   "source": [
    "'''\n",
    "the binomial distribution with parameter n and p is the discrete probality distribution  of the numberof success is n independent \n",
    "experiment ,each asking yes or no .a success and failure are called barnoulli trail\n",
    "it is used where discrete random variable \n",
    "for example tossing a coin n times \n",
    "rolling a dice\n",
    "\n",
    "'''"
   ]
  },
  {
   "cell_type": "code",
   "execution_count": 86,
   "id": "56538373-8f1c-427d-91fc-5f2a7cdc0b34",
   "metadata": {},
   "outputs": [
    {
     "data": {
      "text/plain": [
       "'\\nQ5. Generate a random sample of size 1000 from a binomial distribution with probability of success 0.4\\nand plot a histogram of the results using matplotlib.\\n'"
      ]
     },
     "execution_count": 86,
     "metadata": {},
     "output_type": "execute_result"
    }
   ],
   "source": [
    "'''\n",
    "Q5. Generate a random sample of size 1000 from a binomial distribution with probability of success 0.4\n",
    "and plot a histogram of the results using matplotlib.\n",
    "'''"
   ]
  },
  {
   "cell_type": "code",
   "execution_count": 56,
   "id": "8659e1d9-f72b-4a18-9b2e-803ac17e1a29",
   "metadata": {},
   "outputs": [],
   "source": [
    "import scipy.stats as stat\n",
    "import pylab\n",
    "import numpy as np\n",
    "import matplotlib.pyplot as plt\n",
    "import matplotlib.pyplot as plt\n",
    "import seaborn as sns\n",
    "from numpy import random"
   ]
  },
  {
   "cell_type": "code",
   "execution_count": null,
   "id": "d4e55e37-0cd0-433b-8198-89a9b4867cd2",
   "metadata": {},
   "outputs": [],
   "source": []
  },
  {
   "cell_type": "code",
   "execution_count": 69,
   "id": "3bb43cf2-2d05-4b31-950b-978989128d23",
   "metadata": {},
   "outputs": [
    {
     "data": {
      "image/png": "[encoded data removed]",
      "text/plain": [
       "<Figure size 640x480 with 1 Axes>"
      ]
     },
     "metadata": {},
     "output_type": "display_data"
    }
   ],
   "source": [
    "\n",
    "from scipy.stats import binom\n",
    "import matplotlib.pyplot as plt\n",
    "# setting the values\n",
    "# of n and p\n",
    "n = 1000\n",
    "p = 0.4\n",
    "# defining list of r values\n",
    "r_values = list(range(n + 1))\n",
    "# list of pmf values\n",
    "dist = [binom.pmf(r, n, p) for r in r_values ]\n",
    "# plotting the graph\n",
    "plt.subplot(1,1,1)\n",
    "plt.bar(r_values, dist)\n",
    "plt.show()"
   ]
  },
  {
   "cell_type": "code",
   "execution_count": 58,
   "id": "eb63a9dc-31f6-4a3d-a513-842a5afa8bc4",
   "metadata": {},
   "outputs": [],
   "source": [
    "from scipy.stats import binom\n",
    "def histo_plot(n,p):\n",
    "    r_value = list(range(n+1))\n",
    "    # mean and variance \n",
    "    \n",
    "    mean,variance = binom.stats(n,p)\n",
    "    #list of pmf value \n",
    "    dist = [binom.pmf(r,n,p) for r in r_value]\n",
    "    \n",
    "    plt.hist(r_value,dist)\n",
    "    plt.show()"
   ]
  },
  {
   "cell_type": "code",
   "execution_count": 53,
   "id": "bbc4c607-ec60-4045-8243-0ae0afce2334",
   "metadata": {},
   "outputs": [],
   "source": [
    "from scipy.stats import binom\n",
    "def histoo_plot(n,p):\n",
    "    r_value = list(range(n+1))\n",
    "    # mean and variance \n",
    "    \n",
    "    mean,variance = binom.stats(n,p)\n",
    "    #list of pmf value \n",
    "    dist = [binom.pmf(r,n,p) for r in r_value]\n",
    "    # print the tablie \n",
    "    print(\"r \\tp(r)\")\n",
    "    for i in range(n+1):\n",
    "          print(str(r_value[i])+\"\\t\"+str(dist[i]))\n",
    "    print(\"mean = \"+str(mean))\n",
    "    print(\"variance = \"+str(variance))\n",
    "    plt.hist(r_value,dist)\n",
    "    plt.show()"
   ]
  },
  {
   "cell_type": "code",
   "execution_count": 92,
   "id": "69b57faa-469a-4824-a797-d2d65a15011f",
   "metadata": {},
   "outputs": [
    {
     "data": {
      "text/plain": [
       "'\\nQ6. Write a Python function to calculate the cumulative distribution function of a Poisson distribution\\nwith given mean at a given point.\\n'"
      ]
     },
     "execution_count": 92,
     "metadata": {},
     "output_type": "execute_result"
    }
   ],
   "source": [
    "'''\n",
    "Q6. Write a Python function to calculate the cumulative distribution function of a Poisson distribution\n",
    "with given mean at a given point.\n",
    "'''"
   ]
  },
  {
   "cell_type": "code",
   "execution_count": 115,
   "id": "f8f164f2-83a6-469f-85ac-d69ebd516433",
   "metadata": {},
   "outputs": [
    {
     "name": "stdout",
     "output_type": "stream",
     "text": [
      "64.0\n"
     ]
    },
    {
     "data": {
      "image/png": "[encoded data removed]",
      "text/plain": [
       "<Figure size 640x480 with 1 Axes>"
      ]
     },
     "metadata": {},
     "output_type": "display_data"
    }
   ],
   "source": [
    "import scipy.stats as stat\n",
    "import numpy as np\n",
    "import matplotlib.pyplot as plt\n",
    "\n",
    "%matplotlib inline\n",
    "# number of data \n",
    "n = 100\n",
    "# \n",
    "data = np.random.randint(n)\n",
    "mean= np.mean(data)\n",
    "# data \n",
    "count ,bin_count =  np.histogram(data, bins=int(mean))\n",
    "\n",
    "##### pdf\n",
    "pmf = count / sum(count)\n",
    "\n",
    "cdf = np.cumsum(pmf)\n",
    "  \n",
    "# plotting PDF and CDF\n",
    "\n",
    "plt.plot(bin_count[1:], pmf, color=\"red\", label=\"PmF\")\n",
    "\n",
    "plt.plot(bin_count[1:], cdf, label=\"CDF\")\n",
    "plt.legend()\n",
    "print(mean)"
   ]
  },
  {
   "cell_type": "code",
   "execution_count": 94,
   "id": "a3338d21-07ef-4958-9e28-f98156678bfd",
   "metadata": {},
   "outputs": [
    {
     "data": {
      "text/plain": [
       "'\\nQ7. How Binomial distribution different from Poisson distribution?\\n'"
      ]
     },
     "execution_count": 94,
     "metadata": {},
     "output_type": "execute_result"
    }
   ],
   "source": [
    "\n",
    "'''\n",
    "Q7. How Binomial distribution different from Poisson distribution?\n",
    "'''"
   ]
  },
  {
   "cell_type": "code",
   "execution_count": 95,
   "id": "c541a858-2699-411b-9b3f-38879a7e2b9e",
   "metadata": {},
   "outputs": [
    {
     "data": {
      "text/plain": [
       "'\\nThe difference is the number of possible outcomes . Although both distributions are discrete , \\nthe Binomial has just two possible outcomes (heads/tails, 0/1, etc).\\nThe Poisson has an infinite number of possible outcomes\\n'"
      ]
     },
     "execution_count": 95,
     "metadata": {},
     "output_type": "execute_result"
    }
   ],
   "source": [
    "'''\n",
    "The difference is the number of possible outcomes . Although both distributions are discrete , \n",
    "the Binomial has just two possible outcomes (heads/tails, 0/1, etc).\n",
    "The Poisson has an infinite number of possible outcomes\n",
    "'''"
   ]
  },
  {
   "cell_type": "code",
   "execution_count": 96,
   "id": "38ef9a60-d537-4402-a1c5-1aae4a454e92",
   "metadata": {},
   "outputs": [
    {
     "data": {
      "text/plain": [
       "'\\nQ8. Generate a random sample of size 1000 from a Poisson distribution with mean 5 and calculate the\\nsample mean and variance.\\n'"
      ]
     },
     "execution_count": 96,
     "metadata": {},
     "output_type": "execute_result"
    }
   ],
   "source": [
    "'''\n",
    "Q8. Generate a random sample of size 1000 from a Poisson distribution with mean 5 and calculate the\n",
    "sample mean and variance.\n",
    "'''"
   ]
  },
  {
   "cell_type": "code",
   "execution_count": 116,
   "id": "da3a9c20-c862-4706-a3e0-c100f15f70b2",
   "metadata": {},
   "outputs": [
    {
     "data": {
      "image/png": "[encoded data removed]",
      "text/plain": [
       "<Figure size 640x480 with 1 Axes>"
      ]
     },
     "metadata": {},
     "output_type": "display_data"
    }
   ],
   "source": [
    "n=1000\n",
    "mean=5\n",
    "data= np.random.poisson(mean,n)\n",
    "poss=stat.poisson.pmf(n,mean)\n",
    "\n",
    "import matplotlib.pyplot as plt\n",
    "count,bins, ignored = plt.hist(data, 5, density=True)\n",
    "plt.show()"
   ]
  },
  {
   "cell_type": "code",
   "execution_count": 117,
   "id": "6815d1f2-ffdc-411a-9b78-f303790d6326",
   "metadata": {},
   "outputs": [
    {
     "data": {
      "text/plain": [
       "'\\nQ9. How mean and variance are related in Binomial distribution and Poisson distribution?\\n'"
      ]
     },
     "execution_count": 117,
     "metadata": {},
     "output_type": "execute_result"
    }
   ],
   "source": [
    "'''\n",
    "Q9. How mean and variance are related in Binomial distribution and Poisson distribution?\n",
    "'''"
   ]
  },
  {
   "cell_type": "code",
   "execution_count": 118,
   "id": "fe305de5-7ea2-4265-a7e0-388b02908323",
   "metadata": {},
   "outputs": [
    {
     "data": {
      "text/plain": [
       "'\\nThe Binomial distribution describes the probability of obtaining k successes in n binomial experiments.\\nIf a random variable X follows a binomial distribution, then the probability that X = ksuccesses can be \\nfound by the following formula: P(X=k) = nCk * pk * (1-p)n-k where: 1. n:number of trials \\n2. k: number of successes 3. p:probability of success\\n////*///\\nThe Poisson distribution describes the probability of experiencing kevents during a fixed time interval.\\nIf a random variable X follows a Poisson distribution, then the probability that X = kevents can be found \\nby the following formula: P(X=k) = λk * e– λ/ k! where: 1. λ: mean number of successes that occur during a \\nspecific interval 2. k: number\\no\\n'"
      ]
     },
     "execution_count": 118,
     "metadata": {},
     "output_type": "execute_result"
    }
   ],
   "source": [
    "'''\n",
    "The Binomial distribution describes the probability of obtaining k successes in n binomial experiments.\n",
    "If a random variable X follows a binomial distribution, then the probability that X = ksuccesses can be \n",
    "found by the following formula: P(X=k) = nCk * pk * (1-p)n-k where: 1. n:number of trials \n",
    "2. k: number of successes 3. p:probability of success\n",
    "////*///\n",
    "The Poisson distribution describes the probability of experiencing kevents during a fixed time interval.\n",
    "If a random variable X follows a Poisson distribution, then the probability that X = kevents can be found \n",
    "by the following formula: P(X=k) = λk * e– λ/ k! where: 1. λ: mean number of successes that occur during a \n",
    "specific interval 2. k: number\n",
    "o\n",
    "'''"
   ]
  },
  {
   "cell_type": "code",
   "execution_count": null,
   "id": "63e30682-a131-4241-aa09-de93d71c96be",
   "metadata": {},
   "outputs": [],
   "source": [
    "'''\n",
    "\n",
    "'''"
   ]
  }
 ],
 "metadata": {
  "kernelspec": {
   "display_name": "Python 3 (ipykernel)",
   "language": "python",
   "name": "python3"
  },
  "language_info": {
   "codemirror_mode": {
    "name": "ipython",
    "version": 3
   },
   "file_extension": ".py",
   "mimetype": "text/x-python",
   "name": "python",
   "nbconvert_exporter": "python",
   "pygments_lexer": "ipython3",
   "version": "3.10.8"
  }
 },
 "nbformat": 4,
 "nbformat_minor": 5
}
